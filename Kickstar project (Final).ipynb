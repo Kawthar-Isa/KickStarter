{
 "cells": [
  {
   "cell_type": "code",
   "execution_count": 3,
   "id": "aa3e8c6b-9529-443c-8aeb-02243e514817",
   "metadata": {},
   "outputs": [],
   "source": [
    "import pandas as pd"
   ]
  },
  {
   "cell_type": "code",
   "execution_count": 4,
   "id": "9d84cb9a-10eb-4cc1-b591-7f44dff81199",
   "metadata": {},
   "outputs": [],
   "source": [
    "df= pd.read_csv(\"DAB_kickstarterscrape_dataset.csv\" , encoding='ISO-8859-1')"
   ]
  },
  {
   "cell_type": "code",
   "execution_count": 5,
   "id": "0bfa19ba-d8cc-4377-8ac9-2ace2fd7222e",
   "metadata": {},
   "outputs": [
    {
     "name": "stdout",
     "output_type": "stream",
     "text": [
      "<class 'pandas.core.frame.DataFrame'>\n",
      "RangeIndex: 45957 entries, 0 to 45956\n",
      "Data columns (total 17 columns):\n",
      " #   Column             Non-Null Count  Dtype  \n",
      "---  ------             --------------  -----  \n",
      " 0   project id         45957 non-null  int64  \n",
      " 1   name               45957 non-null  object \n",
      " 2   url                45957 non-null  object \n",
      " 3   category           45957 non-null  object \n",
      " 4   subcategory        45957 non-null  object \n",
      " 5   location           44635 non-null  object \n",
      " 6   status             45957 non-null  object \n",
      " 7   goal               45957 non-null  float64\n",
      " 8   pledged            45945 non-null  float64\n",
      " 9   funded percentage  45957 non-null  float64\n",
      " 10  backers            45957 non-null  int64  \n",
      " 11  funded date        45957 non-null  object \n",
      " 12  levels             45957 non-null  int64  \n",
      " 13  reward levels      45898 non-null  object \n",
      " 14  updates            45957 non-null  int64  \n",
      " 15  comments           45957 non-null  int64  \n",
      " 16  duration           45957 non-null  float64\n",
      "dtypes: float64(4), int64(5), object(8)\n",
      "memory usage: 6.0+ MB\n"
     ]
    }
   ],
   "source": [
    "df.info()"
   ]
  },
  {
   "cell_type": "code",
   "execution_count": 6,
   "id": "de95f900-073f-47c0-b411-bcd2ce7a30dd",
   "metadata": {},
   "outputs": [
    {
     "name": "stdout",
     "output_type": "stream",
     "text": [
      "<class 'pandas.core.frame.DataFrame'>\n",
      "RangeIndex: 45957 entries, 0 to 45956\n",
      "Data columns (total 17 columns):\n",
      " #   Column             Non-Null Count  Dtype              \n",
      "---  ------             --------------  -----              \n",
      " 0   project id         45957 non-null  int64              \n",
      " 1   name               45957 non-null  object             \n",
      " 2   url                45957 non-null  object             \n",
      " 3   category           45957 non-null  object             \n",
      " 4   subcategory        45957 non-null  object             \n",
      " 5   location           44635 non-null  object             \n",
      " 6   status             45957 non-null  object             \n",
      " 7   goal               45957 non-null  float64            \n",
      " 8   pledged            45945 non-null  float64            \n",
      " 9   funded percentage  45957 non-null  float64            \n",
      " 10  backers            45957 non-null  int64              \n",
      " 11  funded date        45957 non-null  datetime64[ns, UTC]\n",
      " 12  levels             45957 non-null  int64              \n",
      " 13  reward levels      45898 non-null  object             \n",
      " 14  updates            45957 non-null  int64              \n",
      " 15  comments           45957 non-null  int64              \n",
      " 16  duration           45957 non-null  float64            \n",
      "dtypes: datetime64[ns, UTC](1), float64(4), int64(5), object(7)\n",
      "memory usage: 6.0+ MB\n"
     ]
    }
   ],
   "source": [
    "# 1. Convert 'funded date' to datetime format\n",
    "df['funded date'] = pd.to_datetime(df['funded date'], errors='coerce')\n",
    "df.info()"
   ]
  },
  {
   "cell_type": "code",
   "execution_count": 7,
   "id": "5cb09cad-43bc-4907-ac32-56d512eede45",
   "metadata": {},
   "outputs": [
    {
     "name": "stdout",
     "output_type": "stream",
     "text": [
      "<class 'pandas.core.frame.DataFrame'>\n",
      "RangeIndex: 45957 entries, 0 to 45956\n",
      "Data columns (total 17 columns):\n",
      " #   Column             Non-Null Count  Dtype              \n",
      "---  ------             --------------  -----              \n",
      " 0   project id         45957 non-null  int64              \n",
      " 1   name               45957 non-null  object             \n",
      " 2   url                45957 non-null  object             \n",
      " 3   category           45957 non-null  object             \n",
      " 4   subcategory        45957 non-null  object             \n",
      " 5   location           44635 non-null  object             \n",
      " 6   status             45957 non-null  object             \n",
      " 7   goal               45957 non-null  float64            \n",
      " 8   pledged            45945 non-null  float64            \n",
      " 9   funded percentage  45957 non-null  float64            \n",
      " 10  backers            45957 non-null  int64              \n",
      " 11  funded date        45957 non-null  datetime64[ns, UTC]\n",
      " 12  levels             45957 non-null  int64              \n",
      " 13  reward levels      45898 non-null  object             \n",
      " 14  updates            45957 non-null  int64              \n",
      " 15  comments           45957 non-null  int64              \n",
      " 16  duration           45957 non-null  float64            \n",
      "dtypes: datetime64[ns, UTC](1), float64(4), int64(5), object(7)\n",
      "memory usage: 6.0+ MB\n",
      "<class 'pandas.core.frame.DataFrame'>\n",
      "Index: 44580 entries, 0 to 45956\n",
      "Data columns (total 17 columns):\n",
      " #   Column             Non-Null Count  Dtype              \n",
      "---  ------             --------------  -----              \n",
      " 0   project id         44580 non-null  int64              \n",
      " 1   name               44580 non-null  object             \n",
      " 2   url                44580 non-null  object             \n",
      " 3   category           44580 non-null  object             \n",
      " 4   subcategory        44580 non-null  object             \n",
      " 5   location           44580 non-null  object             \n",
      " 6   status             44580 non-null  object             \n",
      " 7   goal               44580 non-null  float64            \n",
      " 8   pledged            44580 non-null  float64            \n",
      " 9   funded percentage  44580 non-null  float64            \n",
      " 10  backers            44580 non-null  int64              \n",
      " 11  funded date        44580 non-null  datetime64[ns, UTC]\n",
      " 12  levels             44580 non-null  int64              \n",
      " 13  reward levels      44580 non-null  object             \n",
      " 14  updates            44580 non-null  int64              \n",
      " 15  comments           44580 non-null  int64              \n",
      " 16  duration           44580 non-null  float64            \n",
      "dtypes: datetime64[ns, UTC](1), float64(4), int64(5), object(7)\n",
      "memory usage: 6.1+ MB\n"
     ]
    }
   ],
   "source": [
    "# check for duplicate \n",
    "df.duplicated()\n",
    "df.drop_duplicates()\n",
    "df.info()\n",
    "#remove nulls \n",
    "df = df.dropna()\n",
    "df.info()"
   ]
  },
  {
   "cell_type": "code",
   "execution_count": 8,
   "id": "263b874e-06e9-4ac1-a941-0d14a493e36a",
   "metadata": {},
   "outputs": [
    {
     "name": "stdout",
     "output_type": "stream",
     "text": [
      "<class 'pandas.core.frame.DataFrame'>\n",
      "Index: 44580 entries, 0 to 45956\n",
      "Data columns (total 18 columns):\n",
      " #   Column             Non-Null Count  Dtype              \n",
      "---  ------             --------------  -----              \n",
      " 0   project id         44580 non-null  int64              \n",
      " 1   name               44580 non-null  object             \n",
      " 2   url                44580 non-null  object             \n",
      " 3   category           44580 non-null  object             \n",
      " 4   subcategory        44580 non-null  object             \n",
      " 5   location           44580 non-null  object             \n",
      " 6   status             44580 non-null  object             \n",
      " 7   goal               44580 non-null  float64            \n",
      " 8   pledged            44580 non-null  float64            \n",
      " 9   funded percentage  44580 non-null  float64            \n",
      " 10  backers            44580 non-null  int64              \n",
      " 11  funded date        44580 non-null  datetime64[ns, UTC]\n",
      " 12  levels             44580 non-null  int64              \n",
      " 13  reward levels      44580 non-null  object             \n",
      " 14  updates            44580 non-null  int64              \n",
      " 15  comments           44580 non-null  int64              \n",
      " 16  duration           44580 non-null  float64            \n",
      " 17  success            44580 non-null  int64              \n",
      "dtypes: datetime64[ns, UTC](1), float64(4), int64(6), object(7)\n",
      "memory usage: 6.5+ MB\n"
     ]
    },
    {
     "data": {
      "text/plain": [
       "0        1\n",
       "1        0\n",
       "2        0\n",
       "3        1\n",
       "4        0\n",
       "        ..\n",
       "45952    1\n",
       "45953    0\n",
       "45954    1\n",
       "45955    0\n",
       "45956    1\n",
       "Name: success, Length: 44580, dtype: int64"
      ]
     },
     "execution_count": 8,
     "metadata": {},
     "output_type": "execute_result"
    }
   ],
   "source": [
    "# 2. Create a success indicator column (1 if successful, else 0)\n",
    "df['success'] = df['status'].apply(lambda x: 1 if str(x).lower() == 'successful' else 0)\n",
    "df.info()\n",
    "df.success"
   ]
  },
  {
   "cell_type": "code",
   "execution_count": 9,
   "id": "cf5bd757-fadf-456d-8d61-830bebf27aa0",
   "metadata": {},
   "outputs": [
    {
     "name": "stdout",
     "output_type": "stream",
     "text": [
      "<class 'pandas.core.frame.DataFrame'>\n",
      "Index: 44580 entries, 0 to 45956\n",
      "Data columns (total 20 columns):\n",
      " #   Column             Non-Null Count  Dtype              \n",
      "---  ------             --------------  -----              \n",
      " 0   project id         44580 non-null  int64              \n",
      " 1   name               44580 non-null  object             \n",
      " 2   url                44580 non-null  object             \n",
      " 3   category           44580 non-null  object             \n",
      " 4   subcategory        44580 non-null  object             \n",
      " 5   location           44580 non-null  object             \n",
      " 6   status             44580 non-null  object             \n",
      " 7   goal               44580 non-null  float64            \n",
      " 8   pledged            44580 non-null  float64            \n",
      " 9   funded percentage  44580 non-null  float64            \n",
      " 10  backers            44580 non-null  int64              \n",
      " 11  funded date        44580 non-null  datetime64[ns, UTC]\n",
      " 12  levels             44580 non-null  int64              \n",
      " 13  reward levels      44580 non-null  object             \n",
      " 14  updates            44580 non-null  int64              \n",
      " 15  comments           44580 non-null  int64              \n",
      " 16  duration           44580 non-null  float64            \n",
      " 17  success            44580 non-null  int64              \n",
      " 18  city               42217 non-null  object             \n",
      " 19  state              42217 non-null  object             \n",
      "dtypes: datetime64[ns, UTC](1), float64(4), int64(6), object(9)\n",
      "memory usage: 7.1+ MB\n"
     ]
    }
   ],
   "source": [
    "# 3. Split location into city and state\n",
    "df[['city', 'state']] = df['location'].str.extract(r'^(.*),\\s*([A-Z]{2})$')\n",
    "df.info()\n",
    "# we found that 5.31% of cities and states are out of America "
   ]
  },
  {
   "cell_type": "code",
   "execution_count": 10,
   "id": "20886136-c801-4b46-8918-eeb86d0421b8",
   "metadata": {},
   "outputs": [
    {
     "name": "stdout",
     "output_type": "stream",
     "text": [
      "<class 'pandas.core.frame.DataFrame'>\n",
      "Index: 44580 entries, 0 to 45956\n",
      "Data columns (total 21 columns):\n",
      " #   Column             Non-Null Count  Dtype              \n",
      "---  ------             --------------  -----              \n",
      " 0   project id         44580 non-null  int64              \n",
      " 1   name               44580 non-null  object             \n",
      " 2   url                44580 non-null  object             \n",
      " 3   category           44580 non-null  object             \n",
      " 4   subcategory        44580 non-null  object             \n",
      " 5   location           44580 non-null  object             \n",
      " 6   status             44580 non-null  object             \n",
      " 7   goal               44580 non-null  float64            \n",
      " 8   pledged            44580 non-null  float64            \n",
      " 9   funded percentage  44580 non-null  float64            \n",
      " 10  backers            44580 non-null  int64              \n",
      " 11  funded date        44580 non-null  datetime64[ns, UTC]\n",
      " 12  levels             44580 non-null  int64              \n",
      " 13  reward levels      44580 non-null  object             \n",
      " 14  updates            44580 non-null  int64              \n",
      " 15  comments           44580 non-null  int64              \n",
      " 16  duration           44580 non-null  float64            \n",
      " 17  success            44580 non-null  int64              \n",
      " 18  city               42217 non-null  object             \n",
      " 19  state              42217 non-null  object             \n",
      " 20  goal_bucket        44580 non-null  category           \n",
      "dtypes: category(1), datetime64[ns, UTC](1), float64(4), int64(6), object(9)\n",
      "memory usage: 7.2+ MB\n"
     ]
    },
    {
     "data": {
      "text/plain": [
       "0        10k–50k\n",
       "1          1k–5k\n",
       "2        10k–50k\n",
       "3         5k–10k\n",
       "4          1k–5k\n",
       "          ...   \n",
       "45952        <1k\n",
       "45953     5k–10k\n",
       "45954     5k–10k\n",
       "45955      1k–5k\n",
       "45956    10k–50k\n",
       "Name: goal_bucket, Length: 44580, dtype: category\n",
       "Categories (6, object): ['<1k' < '1k–5k' < '5k–10k' < '10k–50k' < '50k–100k' < '100k+']"
      ]
     },
     "execution_count": 10,
     "metadata": {},
     "output_type": "execute_result"
    }
   ],
   "source": [
    "# 5. Create goal buckets\n",
    "goal_bins = [0, 1000, 5000, 10000, 50000, 100000, df['goal'].max()]\n",
    "goal_labels = ['<1k', '1k–5k', '5k–10k', '10k–50k', '50k–100k', '100k+']\n",
    "df['goal_bucket'] = pd.cut(df['goal'], bins=goal_bins, labels=goal_labels)\n",
    "df.info()\n",
    "df.goal_bucket "
   ]
  },
  {
   "cell_type": "code",
   "execution_count": 11,
   "id": "ba775dca-25af-4626-9069-e63882e201a5",
   "metadata": {},
   "outputs": [
    {
     "data": {
      "text/plain": [
       "0     50–100\n",
       "1        <10\n",
       "2        <10\n",
       "3    100–500\n",
       "4        <10\n",
       "5      10–50\n",
       "6        <10\n",
       "7      10–50\n",
       "8      10–50\n",
       "9    100–500\n",
       "Name: backer_bucket, dtype: category\n",
       "Categories (7, object): ['<10' < '10–50' < '50–100' < '100–500' < '500–1k' < '1k-100k' < '100k+']"
      ]
     },
     "execution_count": 11,
     "metadata": {},
     "output_type": "execute_result"
    }
   ],
   "source": [
    "# 6. Create backer buckets\n",
    "backer_bins = [0, 10, 50, 100, 500, 1000, 100000, 9999999]\n",
    "backer_labels = ['<10', '10–50', '50–100', '100–500', '500–1k', '1k-100k', '100k+']\n",
    "df['backer_bucket'] = pd.cut(df['backers'], bins=backer_bins, labels=backer_labels, right=False)\n",
    "df.backer_bucket.head(10)"
   ]
  },
  {
   "cell_type": "code",
   "execution_count": 12,
   "id": "1936cfc4-45c2-4119-b1c1-205517499ef6",
   "metadata": {},
   "outputs": [
    {
     "name": "stdout",
     "output_type": "stream",
     "text": [
      "<class 'pandas.core.frame.DataFrame'>\n",
      "Index: 44580 entries, 0 to 45956\n",
      "Data columns (total 22 columns):\n",
      " #   Column             Non-Null Count  Dtype              \n",
      "---  ------             --------------  -----              \n",
      " 0   project id         44580 non-null  int64              \n",
      " 1   name               44580 non-null  object             \n",
      " 2   url                44580 non-null  object             \n",
      " 3   category           44580 non-null  object             \n",
      " 4   subcategory        44580 non-null  object             \n",
      " 5   location           44580 non-null  object             \n",
      " 6   status             44580 non-null  object             \n",
      " 7   goal               44580 non-null  float64            \n",
      " 8   pledged            44580 non-null  float64            \n",
      " 9   funded percentage  44580 non-null  float64            \n",
      " 10  backers            44580 non-null  int64              \n",
      " 11  funded date        44580 non-null  datetime64[ns, UTC]\n",
      " 12  levels             44580 non-null  int64              \n",
      " 13  reward levels      44580 non-null  object             \n",
      " 14  updates            44580 non-null  int64              \n",
      " 15  comments           44580 non-null  int64              \n",
      " 16  duration           44580 non-null  float64            \n",
      " 17  success            44580 non-null  int64              \n",
      " 18  city               42217 non-null  object             \n",
      " 19  state              42217 non-null  object             \n",
      " 20  goal_bucket        44580 non-null  category           \n",
      " 21  backer_bucket      44580 non-null  category           \n",
      "dtypes: category(2), datetime64[ns, UTC](1), float64(4), int64(6), object(9)\n",
      "memory usage: 7.2+ MB\n"
     ]
    }
   ],
   "source": [
    "df.info()"
   ]
  },
  {
   "cell_type": "code",
   "execution_count": 13,
   "id": "c8c080c1-35bb-4fcd-bbbe-25b7f389ad4d",
   "metadata": {},
   "outputs": [
    {
     "data": {
      "text/html": [
       "<div>\n",
       "<style scoped>\n",
       "    .dataframe tbody tr th:only-of-type {\n",
       "        vertical-align: middle;\n",
       "    }\n",
       "\n",
       "    .dataframe tbody tr th {\n",
       "        vertical-align: top;\n",
       "    }\n",
       "\n",
       "    .dataframe thead th {\n",
       "        text-align: right;\n",
       "    }\n",
       "</style>\n",
       "<table border=\"1\" class=\"dataframe\">\n",
       "  <thead>\n",
       "    <tr style=\"text-align: right;\">\n",
       "      <th></th>\n",
       "      <th>project id</th>\n",
       "      <th>name</th>\n",
       "      <th>url</th>\n",
       "      <th>category</th>\n",
       "      <th>subcategory</th>\n",
       "      <th>location</th>\n",
       "      <th>status</th>\n",
       "      <th>goal</th>\n",
       "      <th>pledged</th>\n",
       "      <th>funded percentage</th>\n",
       "      <th>...</th>\n",
       "      <th>levels</th>\n",
       "      <th>reward levels</th>\n",
       "      <th>updates</th>\n",
       "      <th>comments</th>\n",
       "      <th>duration</th>\n",
       "      <th>success</th>\n",
       "      <th>city</th>\n",
       "      <th>state</th>\n",
       "      <th>goal_bucket</th>\n",
       "      <th>backer_bucket</th>\n",
       "    </tr>\n",
       "  </thead>\n",
       "  <tbody>\n",
       "  </tbody>\n",
       "</table>\n",
       "<p>0 rows × 22 columns</p>\n",
       "</div>"
      ],
      "text/plain": [
       "Empty DataFrame\n",
       "Columns: [project id, name, url, category, subcategory, location, status, goal, pledged, funded percentage, backers, funded date, levels, reward levels, updates, comments, duration, success, city, state, goal_bucket, backer_bucket]\n",
       "Index: []\n",
       "\n",
       "[0 rows x 22 columns]"
      ]
     },
     "execution_count": 13,
     "metadata": {},
     "output_type": "execute_result"
    }
   ],
   "source": [
    "df[df['backer_bucket'].isnull()]\n"
   ]
  },
  {
   "cell_type": "code",
   "execution_count": 14,
   "id": "c24a1e1e-78c4-4661-a319-54dcf0ef108e",
   "metadata": {},
   "outputs": [
    {
     "name": "stdout",
     "output_type": "stream",
     "text": [
      "The city with the highest success count is: New York (2232 successful projects)\n"
     ]
    }
   ],
   "source": [
    "#total success\n",
    "city_success_counts = df.groupby('city')['success'].sum().sort_values(ascending=False)\n",
    "\n",
    "# highest sucess project in each city \n",
    "top_city = city_success_counts.idxmax()\n",
    "top_count = city_success_counts.max()\n",
    "\n",
    "print(f\"The city with the highest success count is: {top_city} ({top_count} successful projects)\")\n"
   ]
  },
  {
   "cell_type": "code",
   "execution_count": 15,
   "id": "4f8445f6-f415-41c4-ade4-2b4c337eef05",
   "metadata": {},
   "outputs": [
    {
     "name": "stdout",
     "output_type": "stream",
     "text": [
      "city\n",
      "New York          2232\n",
      "Los Angeles       2013\n",
      "Brooklyn          1105\n",
      "Chicago            871\n",
      "San Francisco      795\n",
      "                  ... \n",
      "Lake Mary            0\n",
      "Lake Hopatcong       0\n",
      "Lake Helen           0\n",
      "Lake George          0\n",
      "Zirconia             0\n",
      "Name: success, Length: 3331, dtype: int64\n"
     ]
    }
   ],
   "source": [
    "city_success_counts = df.groupby('city')['success'].sum().sort_values(ascending=False)\n",
    "print(city_success_counts)\n"
   ]
  },
  {
   "cell_type": "code",
   "execution_count": 16,
   "id": "630565aa-effd-4dec-98fe-47599fd086fa",
   "metadata": {},
   "outputs": [
    {
     "data": {
      "text/plain": [
       "city\n",
       "New York         2232\n",
       "Los Angeles      2013\n",
       "Brooklyn         1105\n",
       "Chicago           871\n",
       "San Francisco     795\n",
       "Portland          675\n",
       "Seattle           537\n",
       "Austin            508\n",
       "Boston            462\n",
       "Nashville         397\n",
       "Name: success, dtype: int64"
      ]
     },
     "execution_count": 16,
     "metadata": {},
     "output_type": "execute_result"
    }
   ],
   "source": [
    "city_success_counts.head(10)"
   ]
  },
  {
   "cell_type": "code",
   "execution_count": 17,
   "id": "7e8280b5-f14e-4281-a2ca-251469b4c801",
   "metadata": {},
   "outputs": [
    {
     "data": {
      "text/plain": [
       "goal        5559.751403\n",
       "backers      123.188661\n",
       "duration      37.597591\n",
       "updates        6.583509\n",
       "comments      14.855722\n",
       "dtype: float64"
      ]
     },
     "execution_count": 17,
     "metadata": {},
     "output_type": "execute_result"
    }
   ],
   "source": [
    "df[df['funded percentage'] >= 1][['goal', 'backers', 'duration', 'updates', 'comments']].mean()"
   ]
  },
  {
   "cell_type": "code",
   "execution_count": 18,
   "id": "82716983-0773-4348-8d42-5ef6621c7ec5",
   "metadata": {},
   "outputs": [
    {
     "data": {
      "text/plain": [
       "goal        18933.692467\n",
       "backers        15.205598\n",
       "duration       41.757118\n",
       "updates         1.428020\n",
       "comments        1.421723\n",
       "dtype: float64"
      ]
     },
     "execution_count": 18,
     "metadata": {},
     "output_type": "execute_result"
    }
   ],
   "source": [
    "df[df['funded percentage'] < 1][['goal', 'backers', 'duration', 'updates', 'comments']].mean()"
   ]
  },
  {
   "cell_type": "code",
   "execution_count": 19,
   "id": "6dcbbdc8-2ed7-4c9c-bfea-2af4d7f3c062",
   "metadata": {},
   "outputs": [
    {
     "data": {
      "text/plain": [
       "'Short Film'"
      ]
     },
     "execution_count": 19,
     "metadata": {},
     "output_type": "execute_result"
    }
   ],
   "source": [
    "#the most common category and subcategory\n",
    "most_common_category = df['category'].mode()[0]\n",
    "most_common_subcategory = df['subcategory'].mode()[0]\n",
    "\n",
    "most_common_category\n",
    "most_common_subcategory"
   ]
  },
  {
   "cell_type": "code",
   "execution_count": 20,
   "id": "a5d62fcc-bbfc-40f0-9ca1-561a707e5efe",
   "metadata": {},
   "outputs": [
    {
     "data": {
      "text/html": [
       "<div>\n",
       "<style scoped>\n",
       "    .dataframe tbody tr th:only-of-type {\n",
       "        vertical-align: middle;\n",
       "    }\n",
       "\n",
       "    .dataframe tbody tr th {\n",
       "        vertical-align: top;\n",
       "    }\n",
       "\n",
       "    .dataframe thead th {\n",
       "        text-align: right;\n",
       "    }\n",
       "</style>\n",
       "<table border=\"1\" class=\"dataframe\">\n",
       "  <thead>\n",
       "    <tr style=\"text-align: right;\">\n",
       "      <th></th>\n",
       "      <th>project id</th>\n",
       "      <th>name</th>\n",
       "      <th>url</th>\n",
       "      <th>category</th>\n",
       "      <th>subcategory</th>\n",
       "      <th>location</th>\n",
       "      <th>status</th>\n",
       "      <th>goal</th>\n",
       "      <th>pledged</th>\n",
       "      <th>funded percentage</th>\n",
       "      <th>...</th>\n",
       "      <th>levels</th>\n",
       "      <th>reward levels</th>\n",
       "      <th>updates</th>\n",
       "      <th>comments</th>\n",
       "      <th>duration</th>\n",
       "      <th>success</th>\n",
       "      <th>city</th>\n",
       "      <th>state</th>\n",
       "      <th>goal_bucket</th>\n",
       "      <th>backer_bucket</th>\n",
       "    </tr>\n",
       "  </thead>\n",
       "  <tbody>\n",
       "    <tr>\n",
       "      <th>10710</th>\n",
       "      <td>506924864</td>\n",
       "      <td>Pebble: E-Paper Watch for iPhone and Android</td>\n",
       "      <td>http://www.kickstarter.com/projects/597507018/...</td>\n",
       "      <td>Design</td>\n",
       "      <td>Product Design</td>\n",
       "      <td>Palo Alto, CA</td>\n",
       "      <td>successful</td>\n",
       "      <td>100000.0</td>\n",
       "      <td>10266845.0</td>\n",
       "      <td>102.668457</td>\n",
       "      <td>...</td>\n",
       "      <td>11</td>\n",
       "      <td>$1,$99,$115,$125,$220,$235,$240,$550,$1,000,$1...</td>\n",
       "      <td>13</td>\n",
       "      <td>7013</td>\n",
       "      <td>37.92</td>\n",
       "      <td>1</td>\n",
       "      <td>Palo Alto</td>\n",
       "      <td>CA</td>\n",
       "      <td>50k–100k</td>\n",
       "      <td>1k-100k</td>\n",
       "    </tr>\n",
       "    <tr>\n",
       "      <th>41151</th>\n",
       "      <td>1929840910</td>\n",
       "      <td>Double Fine Adventure</td>\n",
       "      <td>http://www.kickstarter.com/projects/doublefine...</td>\n",
       "      <td>Games</td>\n",
       "      <td>Video Games</td>\n",
       "      <td>San Francisco, CA</td>\n",
       "      <td>successful</td>\n",
       "      <td>400000.0</td>\n",
       "      <td>3336372.0</td>\n",
       "      <td>8.340930</td>\n",
       "      <td>...</td>\n",
       "      <td>9</td>\n",
       "      <td>$15,$30,$60,$100,$250,$500,$1,000,$5,000,$10,000</td>\n",
       "      <td>9</td>\n",
       "      <td>10159</td>\n",
       "      <td>33.92</td>\n",
       "      <td>1</td>\n",
       "      <td>San Francisco</td>\n",
       "      <td>CA</td>\n",
       "      <td>100k+</td>\n",
       "      <td>1k-100k</td>\n",
       "    </tr>\n",
       "    <tr>\n",
       "      <th>42674</th>\n",
       "      <td>2000827215</td>\n",
       "      <td>Wasteland 2</td>\n",
       "      <td>http://www.kickstarter.com/projects/inxile/was...</td>\n",
       "      <td>Games</td>\n",
       "      <td>Video Games</td>\n",
       "      <td>Newport Beach, CA</td>\n",
       "      <td>successful</td>\n",
       "      <td>900000.0</td>\n",
       "      <td>2933252.0</td>\n",
       "      <td>3.259169</td>\n",
       "      <td>...</td>\n",
       "      <td>15</td>\n",
       "      <td>$15,$30,$50,$55,$75,$100,$150,$150,$250,$500,$...</td>\n",
       "      <td>16</td>\n",
       "      <td>13133</td>\n",
       "      <td>35.00</td>\n",
       "      <td>1</td>\n",
       "      <td>Newport Beach</td>\n",
       "      <td>CA</td>\n",
       "      <td>100k+</td>\n",
       "      <td>1k-100k</td>\n",
       "    </tr>\n",
       "    <tr>\n",
       "      <th>11231</th>\n",
       "      <td>531044328</td>\n",
       "      <td>Shadowrun Returns</td>\n",
       "      <td>http://www.kickstarter.com/projects/1613260297...</td>\n",
       "      <td>Games</td>\n",
       "      <td>Video Games</td>\n",
       "      <td>Bellevue, WA</td>\n",
       "      <td>successful</td>\n",
       "      <td>400000.0</td>\n",
       "      <td>1836447.0</td>\n",
       "      <td>4.591118</td>\n",
       "      <td>...</td>\n",
       "      <td>14</td>\n",
       "      <td>$15,$30,$50,$60,$100,$125,$175,$250,$500,$1,00...</td>\n",
       "      <td>20</td>\n",
       "      <td>13850</td>\n",
       "      <td>24.77</td>\n",
       "      <td>1</td>\n",
       "      <td>Bellevue</td>\n",
       "      <td>WA</td>\n",
       "      <td>100k+</td>\n",
       "      <td>1k-100k</td>\n",
       "    </tr>\n",
       "    <tr>\n",
       "      <th>35458</th>\n",
       "      <td>1668263241</td>\n",
       "      <td>Elevation Dock: The Best Dock For iPhone</td>\n",
       "      <td>http://www.kickstarter.com/projects/hop/elevat...</td>\n",
       "      <td>Design</td>\n",
       "      <td>Product Design</td>\n",
       "      <td>Portland, OR</td>\n",
       "      <td>successful</td>\n",
       "      <td>75000.0</td>\n",
       "      <td>1464706.0</td>\n",
       "      <td>19.529425</td>\n",
       "      <td>...</td>\n",
       "      <td>10</td>\n",
       "      <td>$59,$79,$85,$118,$150,$250,$500,$2,000,$5,000,...</td>\n",
       "      <td>15</td>\n",
       "      <td>694</td>\n",
       "      <td>60.00</td>\n",
       "      <td>1</td>\n",
       "      <td>Portland</td>\n",
       "      <td>OR</td>\n",
       "      <td>50k–100k</td>\n",
       "      <td>1k-100k</td>\n",
       "    </tr>\n",
       "    <tr>\n",
       "      <th>4086</th>\n",
       "      <td>193329107</td>\n",
       "      <td>The Order of the Stick Reprint Drive</td>\n",
       "      <td>http://www.kickstarter.com/projects/599092525/...</td>\n",
       "      <td>Comics</td>\n",
       "      <td>Comics</td>\n",
       "      <td>Philadelphia, PA</td>\n",
       "      <td>successful</td>\n",
       "      <td>57750.0</td>\n",
       "      <td>1254120.0</td>\n",
       "      <td>21.716365</td>\n",
       "      <td>...</td>\n",
       "      <td>64</td>\n",
       "      <td>$10,$11,$12,$14,$14,$15,$16,$24,$25,$26,$29,$3...</td>\n",
       "      <td>40</td>\n",
       "      <td>19311</td>\n",
       "      <td>30.00</td>\n",
       "      <td>1</td>\n",
       "      <td>Philadelphia</td>\n",
       "      <td>PA</td>\n",
       "      <td>50k–100k</td>\n",
       "      <td>1k-100k</td>\n",
       "    </tr>\n",
       "    <tr>\n",
       "      <th>17468</th>\n",
       "      <td>823772473</td>\n",
       "      <td>Amanda Palmer: The new RECORD, ART BOOK, and TOUR</td>\n",
       "      <td>http://www.kickstarter.com/projects/amandapalm...</td>\n",
       "      <td>Music</td>\n",
       "      <td>Music</td>\n",
       "      <td>Boston, MA</td>\n",
       "      <td>successful</td>\n",
       "      <td>100000.0</td>\n",
       "      <td>1192793.0</td>\n",
       "      <td>11.927931</td>\n",
       "      <td>...</td>\n",
       "      <td>24</td>\n",
       "      <td>$1,$5,$25,$50,$100,$125,$250,$250,$300,$300,$3...</td>\n",
       "      <td>9</td>\n",
       "      <td>782</td>\n",
       "      <td>31.71</td>\n",
       "      <td>1</td>\n",
       "      <td>Boston</td>\n",
       "      <td>MA</td>\n",
       "      <td>50k–100k</td>\n",
       "      <td>1k-100k</td>\n",
       "    </tr>\n",
       "    <tr>\n",
       "      <th>4114</th>\n",
       "      <td>195314440</td>\n",
       "      <td>TikTok+LunaTik Multi-Touch Watch Kits</td>\n",
       "      <td>http://www.kickstarter.com/projects/1104350651...</td>\n",
       "      <td>Design</td>\n",
       "      <td>Product Design</td>\n",
       "      <td>Chicago, IL</td>\n",
       "      <td>successful</td>\n",
       "      <td>15000.0</td>\n",
       "      <td>942578.0</td>\n",
       "      <td>62.838562</td>\n",
       "      <td>...</td>\n",
       "      <td>6</td>\n",
       "      <td>$1,$25,$50,$70,$150,$500</td>\n",
       "      <td>47</td>\n",
       "      <td>4187</td>\n",
       "      <td>30.00</td>\n",
       "      <td>1</td>\n",
       "      <td>Chicago</td>\n",
       "      <td>IL</td>\n",
       "      <td>10k–50k</td>\n",
       "      <td>1k-100k</td>\n",
       "    </tr>\n",
       "    <tr>\n",
       "      <th>18500</th>\n",
       "      <td>872786842</td>\n",
       "      <td>Hidden Radio &amp;amp; BlueTooth Speaker</td>\n",
       "      <td>http://www.kickstarter.com/projects/2107726947...</td>\n",
       "      <td>Design</td>\n",
       "      <td>Product Design</td>\n",
       "      <td>San Francisco, CA</td>\n",
       "      <td>successful</td>\n",
       "      <td>125000.0</td>\n",
       "      <td>938771.0</td>\n",
       "      <td>7.510172</td>\n",
       "      <td>...</td>\n",
       "      <td>7</td>\n",
       "      <td>$20,$99,$119,$229,$449,$449,$659</td>\n",
       "      <td>14</td>\n",
       "      <td>710</td>\n",
       "      <td>60.00</td>\n",
       "      <td>1</td>\n",
       "      <td>San Francisco</td>\n",
       "      <td>CA</td>\n",
       "      <td>100k+</td>\n",
       "      <td>1k-100k</td>\n",
       "    </tr>\n",
       "    <tr>\n",
       "      <th>19495</th>\n",
       "      <td>917643914</td>\n",
       "      <td>Ogre Designer's Edition</td>\n",
       "      <td>http://www.kickstarter.com/projects/847271320/...</td>\n",
       "      <td>Games</td>\n",
       "      <td>Board &amp;amp; Card Games</td>\n",
       "      <td>Austin, TX</td>\n",
       "      <td>successful</td>\n",
       "      <td>20000.0</td>\n",
       "      <td>923680.0</td>\n",
       "      <td>46.184000</td>\n",
       "      <td>...</td>\n",
       "      <td>38</td>\n",
       "      <td>$1,$10,$23,$23,$25,$30,$30,$35,$75,$100,$150,$...</td>\n",
       "      <td>42</td>\n",
       "      <td>5705</td>\n",
       "      <td>30.00</td>\n",
       "      <td>1</td>\n",
       "      <td>Austin</td>\n",
       "      <td>TX</td>\n",
       "      <td>10k–50k</td>\n",
       "      <td>1k-100k</td>\n",
       "    </tr>\n",
       "  </tbody>\n",
       "</table>\n",
       "<p>10 rows × 22 columns</p>\n",
       "</div>"
      ],
      "text/plain": [
       "       project id                                               name  \\\n",
       "10710   506924864       Pebble: E-Paper Watch for iPhone and Android   \n",
       "41151  1929840910                              Double Fine Adventure   \n",
       "42674  2000827215                                        Wasteland 2   \n",
       "11231   531044328                                  Shadowrun Returns   \n",
       "35458  1668263241           Elevation Dock: The Best Dock For iPhone   \n",
       "4086    193329107               The Order of the Stick Reprint Drive   \n",
       "17468   823772473  Amanda Palmer: The new RECORD, ART BOOK, and TOUR   \n",
       "4114    195314440              TikTok+LunaTik Multi-Touch Watch Kits   \n",
       "18500   872786842               Hidden Radio &amp; BlueTooth Speaker   \n",
       "19495   917643914                            Ogre Designer's Edition   \n",
       "\n",
       "                                                     url category  \\\n",
       "10710  http://www.kickstarter.com/projects/597507018/...   Design   \n",
       "41151  http://www.kickstarter.com/projects/doublefine...    Games   \n",
       "42674  http://www.kickstarter.com/projects/inxile/was...    Games   \n",
       "11231  http://www.kickstarter.com/projects/1613260297...    Games   \n",
       "35458  http://www.kickstarter.com/projects/hop/elevat...   Design   \n",
       "4086   http://www.kickstarter.com/projects/599092525/...   Comics   \n",
       "17468  http://www.kickstarter.com/projects/amandapalm...    Music   \n",
       "4114   http://www.kickstarter.com/projects/1104350651...   Design   \n",
       "18500  http://www.kickstarter.com/projects/2107726947...   Design   \n",
       "19495  http://www.kickstarter.com/projects/847271320/...    Games   \n",
       "\n",
       "                  subcategory           location      status      goal  \\\n",
       "10710          Product Design      Palo Alto, CA  successful  100000.0   \n",
       "41151             Video Games  San Francisco, CA  successful  400000.0   \n",
       "42674             Video Games  Newport Beach, CA  successful  900000.0   \n",
       "11231             Video Games       Bellevue, WA  successful  400000.0   \n",
       "35458          Product Design       Portland, OR  successful   75000.0   \n",
       "4086                   Comics   Philadelphia, PA  successful   57750.0   \n",
       "17468                   Music         Boston, MA  successful  100000.0   \n",
       "4114           Product Design        Chicago, IL  successful   15000.0   \n",
       "18500          Product Design  San Francisco, CA  successful  125000.0   \n",
       "19495  Board &amp; Card Games         Austin, TX  successful   20000.0   \n",
       "\n",
       "          pledged  funded percentage  ...  levels  \\\n",
       "10710  10266845.0         102.668457  ...      11   \n",
       "41151   3336372.0           8.340930  ...       9   \n",
       "42674   2933252.0           3.259169  ...      15   \n",
       "11231   1836447.0           4.591118  ...      14   \n",
       "35458   1464706.0          19.529425  ...      10   \n",
       "4086    1254120.0          21.716365  ...      64   \n",
       "17468   1192793.0          11.927931  ...      24   \n",
       "4114     942578.0          62.838562  ...       6   \n",
       "18500    938771.0           7.510172  ...       7   \n",
       "19495    923680.0          46.184000  ...      38   \n",
       "\n",
       "                                           reward levels  updates comments  \\\n",
       "10710  $1,$99,$115,$125,$220,$235,$240,$550,$1,000,$1...       13     7013   \n",
       "41151   $15,$30,$60,$100,$250,$500,$1,000,$5,000,$10,000        9    10159   \n",
       "42674  $15,$30,$50,$55,$75,$100,$150,$150,$250,$500,$...       16    13133   \n",
       "11231  $15,$30,$50,$60,$100,$125,$175,$250,$500,$1,00...       20    13850   \n",
       "35458  $59,$79,$85,$118,$150,$250,$500,$2,000,$5,000,...       15      694   \n",
       "4086   $10,$11,$12,$14,$14,$15,$16,$24,$25,$26,$29,$3...       40    19311   \n",
       "17468  $1,$5,$25,$50,$100,$125,$250,$250,$300,$300,$3...        9      782   \n",
       "4114                            $1,$25,$50,$70,$150,$500       47     4187   \n",
       "18500                   $20,$99,$119,$229,$449,$449,$659       14      710   \n",
       "19495  $1,$10,$23,$23,$25,$30,$30,$35,$75,$100,$150,$...       42     5705   \n",
       "\n",
       "       duration  success           city  state goal_bucket backer_bucket  \n",
       "10710     37.92        1      Palo Alto     CA    50k–100k       1k-100k  \n",
       "41151     33.92        1  San Francisco     CA       100k+       1k-100k  \n",
       "42674     35.00        1  Newport Beach     CA       100k+       1k-100k  \n",
       "11231     24.77        1       Bellevue     WA       100k+       1k-100k  \n",
       "35458     60.00        1       Portland     OR    50k–100k       1k-100k  \n",
       "4086      30.00        1   Philadelphia     PA    50k–100k       1k-100k  \n",
       "17468     31.71        1         Boston     MA    50k–100k       1k-100k  \n",
       "4114      30.00        1        Chicago     IL     10k–50k       1k-100k  \n",
       "18500     60.00        1  San Francisco     CA       100k+       1k-100k  \n",
       "19495     30.00        1         Austin     TX     10k–50k       1k-100k  \n",
       "\n",
       "[10 rows x 22 columns]"
      ]
     },
     "execution_count": 20,
     "metadata": {},
     "output_type": "execute_result"
    }
   ],
   "source": [
    "#Sort projects by the amount pledged \n",
    "top_funded_projects = df.sort_values(by='pledged', ascending=False).head(10)\n",
    "\n",
    "top_funded_projects"
   ]
  },
  {
   "cell_type": "code",
   "execution_count": 21,
   "id": "7d1e6fa0-e462-4158-b895-d7b19437b26d",
   "metadata": {},
   "outputs": [],
   "source": [
    "# Filter for successful projects in New York\n",
    "successful_ny_projects = df[(df['status'] == 'successful') & (df['location'].str.contains('New York'))]"
   ]
  },
  {
   "cell_type": "code",
   "execution_count": 43,
   "id": "77339e2c-40bd-4c67-8ecc-506792e679dd",
   "metadata": {},
   "outputs": [],
   "source": [
    "# Count the number of successful projects by category\n",
    "success_counts = successful_ny_projects['category'].value_counts()"
   ]
  },
  {
   "cell_type": "code",
   "execution_count": 45,
   "id": "f8756dca-6df1-4602-a5d8-f4ec7149fd7b",
   "metadata": {},
   "outputs": [
    {
     "name": "stdout",
     "output_type": "stream",
     "text": [
      "category\n",
      "Film &amp; Video    705\n",
      "Music               463\n",
      "Theater             348\n",
      "Art                 164\n",
      "Publishing          132\n",
      "Dance               119\n",
      "Photography          67\n",
      "Design               56\n",
      "Film & Video         40\n",
      "Fashion              39\n",
      "Comics               30\n",
      "Food                 28\n",
      "Technology           23\n",
      "Games                18\n",
      "Name: count, dtype: int64\n"
     ]
    }
   ],
   "source": [
    "# Display the results\n",
    "print(success_counts)"
   ]
  },
  {
   "cell_type": "code",
   "execution_count": null,
   "id": "1e7d9770-9f23-4679-952d-45fb0409e6ad",
   "metadata": {},
   "outputs": [],
   "source": []
  }
 ],
 "metadata": {
  "kernelspec": {
   "display_name": "Python [conda env:base] *",
   "language": "python",
   "name": "conda-base-py"
  },
  "language_info": {
   "codemirror_mode": {
    "name": "ipython",
    "version": 3
   },
   "file_extension": ".py",
   "mimetype": "text/x-python",
   "name": "python",
   "nbconvert_exporter": "python",
   "pygments_lexer": "ipython3",
   "version": "3.12.7"
  }
 },
 "nbformat": 4,
 "nbformat_minor": 5
}
